{
 "cells": [
  {
   "cell_type": "code",
   "execution_count": 2,
   "metadata": {},
   "outputs": [],
   "source": [
    "import time\n",
    "import json\n",
    "import requests"
   ]
  },
  {
   "cell_type": "code",
   "execution_count": 61,
   "metadata": {},
   "outputs": [],
   "source": [
    "# message = 'Hello, ebat!'\n",
    "\n",
    "# endpoint = 'https://steambot20181013015404.azurewebsites.net/'\n",
    "# method = 'sendall'\n",
    "# message = urllib.parse.quote(str(message))\n",
    "# url = f'{endpoint}{method}?messageText={message}'\n",
    "# response = requests.post(url)\n",
    "# response.status_code"
   ]
  },
  {
   "cell_type": "code",
   "execution_count": 62,
   "metadata": {},
   "outputs": [],
   "source": [
    "# 'https://steambot20181013015404.azurewebsites.net/sendsingle?user64Id=76561198425029912&messageText=asdfasdf.%2Cas!gdofh0024'"
   ]
  },
  {
   "cell_type": "code",
   "execution_count": 63,
   "metadata": {},
   "outputs": [],
   "source": [
    "# message = 'https://steambot20181013015404.azurewebsites.net/swagger/index.html?url=/swagger/v1/swagger.json#/Bot/Bot_SendOne'\n",
    "\n",
    "# endpoint = 'https://steambot20181013015404.azurewebsites.net/'\n",
    "# method = 'sendsingle'\n",
    "# steam_id = 76561198425029912\n",
    "# message = urllib.parse.quote(str(message))\n",
    "# url = f'{endpoint}{method}?user64Id={steam_id}&messageText={message}'\n",
    "# response = requests.post(url)\n",
    "# response.status_code"
   ]
  },
  {
   "cell_type": "markdown",
   "metadata": {},
   "source": [
    "Отправить юзеру сообщение через произвольного бота"
   ]
  },
  {
   "cell_type": "code",
   "execution_count": 93,
   "metadata": {},
   "outputs": [],
   "source": [
    "def send_message_via_steam(account, password, steam_id, message):\n",
    "    endpoint = 'https://steambot20181013015404.azurewebsites.net/'\n",
    "    method = 'sendsingle'\n",
    "    message = urllib.parse.quote(str(message))\n",
    "    url = f'{endpoint}{method}?user={account}&pass={password}&user64Id={steam_id}&messageText={message}'\n",
    "    response = requests.post(url)\n",
    "    return response.status_code"
   ]
  },
  {
   "cell_type": "code",
   "execution_count": 94,
   "metadata": {},
   "outputs": [
    {
     "data": {
      "text/plain": [
       "200"
      ]
     },
     "execution_count": 94,
     "metadata": {},
     "output_type": "execute_result"
    }
   ],
   "source": [
    "message = 'https://steambot20181013015404.azurewebsites.net/swagger/index.html?url=/swagger/v1/swagger.json#/Bot/Bot_SendOne'\n",
    "send_message_via_steam('hacktestbot', 'GiveMeYourMoney3000', 76561198425029912, message)"
   ]
  },
  {
   "cell_type": "markdown",
   "metadata": {},
   "source": [
    "Получить список друзей"
   ]
  },
  {
   "cell_type": "code",
   "execution_count": 83,
   "metadata": {},
   "outputs": [],
   "source": [
    "def get_bot_friend_steam_ids(account, password):\n",
    "    endpoint = 'https://steambot20181013015404.azurewebsites.net/getfriendsIds/'\n",
    "    url = f'{endpoint}?user={account}&pass={password}'\n",
    "    response = requests.get(url)\n",
    "    if response.status_code == 200:\n",
    "        return list(response.json().keys())\n",
    "    else:\n",
    "        return None"
   ]
  },
  {
   "cell_type": "code",
   "execution_count": 84,
   "metadata": {},
   "outputs": [
    {
     "data": {
      "text/plain": [
       "['76561198073015316', '76561198185586897', '76561198425029912']"
      ]
     },
     "execution_count": 84,
     "metadata": {},
     "output_type": "execute_result"
    }
   ],
   "source": [
    "get_bot_friend_steam_ids('hacktestbot', 'GiveMeYourMoney3000')"
   ]
  },
  {
   "cell_type": "markdown",
   "metadata": {},
   "source": [
    "Получить steam_id64"
   ]
  },
  {
   "cell_type": "code",
   "execution_count": 66,
   "metadata": {},
   "outputs": [],
   "source": [
    "def get_steam_id(account, password):\n",
    "    endpoint = 'https://steambot20181013015404.azurewebsites.net/getbot64Id/'\n",
    "    url = f'{endpoint}?user={account}&pass={password}'\n",
    "    response = requests.get(url)\n",
    "    if response.status_code == 200:\n",
    "        return int(response.json())\n",
    "    else:\n",
    "        return None"
   ]
  },
  {
   "cell_type": "code",
   "execution_count": 67,
   "metadata": {},
   "outputs": [
    {
     "data": {
      "text/plain": [
       "76561198865217089"
      ]
     },
     "execution_count": 67,
     "metadata": {},
     "output_type": "execute_result"
    }
   ],
   "source": [
    "get_steam_id('hacktestbot', 'GiveMeYourMoney3000')"
   ]
  },
  {
   "cell_type": "markdown",
   "metadata": {},
   "source": [
    "Bot info"
   ]
  },
  {
   "cell_type": "code",
   "execution_count": 91,
   "metadata": {},
   "outputs": [],
   "source": [
    "def get_bot_info(account, password):\n",
    "    endpoint = 'https://steambot20181013015404.azurewebsites.net/botInfo/'\n",
    "    url = f'{endpoint}?user={account}&pass={password}'\n",
    "    response = requests.post(url)\n",
    "    if response.status_code == 200:\n",
    "        return response.json()\n",
    "    else:\n",
    "        return None"
   ]
  },
  {
   "cell_type": "code",
   "execution_count": 92,
   "metadata": {},
   "outputs": [
    {
     "data": {
      "text/plain": [
       "{'botName': 'Dodo Bro',\n",
       " 'botStatus': 'Online',\n",
       " 'friendsCount': 3,\n",
       " 'country': 'US',\n",
       " 'facebookName': '',\n",
       " 'flags': 'PersonaNameSet, PasswordSet, HWIDSet, LimitedUser, EmailValidated, Steam2MigrationComplete',\n",
       " 'countAuthComputers': '0',\n",
       " 'profileUrl': 'https://steamcommunity.com/profiles/76561198865217089',\n",
       " 'state': 'Online',\n",
       " 'steamId': '[U:1:904951361]',\n",
       " 'image_url': 'https://steamcdn-a.akamaihd.net/steamcommunity/public/images/avatars/a2/a25e3d09d51259e3ef3638c8ad5171b4fc22d79f_full.jpg'}"
      ]
     },
     "execution_count": 92,
     "metadata": {},
     "output_type": "execute_result"
    }
   ],
   "source": [
    "get_bot_info('hacktestbot', 'GiveMeYourMoney3000')"
   ]
  },
  {
   "cell_type": "markdown",
   "metadata": {},
   "source": [
    "Bot friend info"
   ]
  },
  {
   "cell_type": "code",
   "execution_count": 81,
   "metadata": {},
   "outputs": [],
   "source": [
    "def get_bot_friend_info(account, password, steam_id):\n",
    "    endpoint = 'https://steambot20181013015404.azurewebsites.net/friendInfo/'\n",
    "    url = f'{endpoint}?user={account}&pass={password}&user64Id={steam_id}'\n",
    "    response = requests.post(url)\n",
    "    if response.status_code == 200:\n",
    "        return response.json()\n",
    "    else:\n",
    "        return None"
   ]
  },
  {
   "cell_type": "code",
   "execution_count": 82,
   "metadata": {},
   "outputs": [
    {
     "data": {
      "text/plain": [
       "{'country': 'Russian Federation',\n",
       " 'summary': '',\n",
       " 'realName': '',\n",
       " 'headline': '',\n",
       " 'profileUrl': 'https://steamcommunity.com/profiles/76561198425029912',\n",
       " 'state': 'Moscow City',\n",
       " 'steamId': '[U:1:464764184]'}"
      ]
     },
     "execution_count": 82,
     "metadata": {},
     "output_type": "execute_result"
    }
   ],
   "source": [
    "get_bot_friend_info('hacktestbot', 'GiveMeYourMoney3000', 76561198425029912)"
   ]
  },
  {
   "cell_type": "code",
   "execution_count": 88,
   "metadata": {},
   "outputs": [],
   "source": [
    "def accept_bot_friend_requests_and_send_welcome(account, password, message):\n",
    "    endpoint = 'https://steambot20181013015404.azurewebsites.net/acceptFriendsAndSendMessage/'\n",
    "    message = urllib.parse.quote(str(message))\n",
    "    url = f'{endpoint}?user={account}&pass={password}&messageText={message}'\n",
    "    response = requests.post(url)\n",
    "    if response.status_code == 200:\n",
    "        return response.json()\n",
    "    else:\n",
    "        return None"
   ]
  },
  {
   "cell_type": "code",
   "execution_count": 87,
   "metadata": {},
   "outputs": [
    {
     "data": {
      "text/plain": [
       "True"
      ]
     },
     "execution_count": 87,
     "metadata": {},
     "output_type": "execute_result"
    }
   ],
   "source": [
    "accept_bot_friend_requests_and_send_welcome('hacktestbot', 'GiveMeYourMoney3000', 'Welcome')"
   ]
  },
  {
   "cell_type": "code",
   "execution_count": null,
   "metadata": {},
   "outputs": [],
   "source": []
  }
 ],
 "metadata": {
  "kernelspec": {
   "display_name": "Python 3",
   "language": "python",
   "name": "python3"
  },
  "language_info": {
   "codemirror_mode": {
    "name": "ipython",
    "version": 3
   },
   "file_extension": ".py",
   "mimetype": "text/x-python",
   "name": "python",
   "nbconvert_exporter": "python",
   "pygments_lexer": "ipython3",
   "version": "3.6.3"
  }
 },
 "nbformat": 4,
 "nbformat_minor": 2
}
